{
  "nbformat": 4,
  "nbformat_minor": 0,
  "metadata": {
    "colab": {
      "name": "MAYUR_ANDHARE_LSDS Intro Assignment 5 - Linear Algebra Foundations.ipynb",
      "version": "0.3.2",
      "provenance": [],
      "collapsed_sections": [],
      "include_colab_link": true
    },
    "kernelspec": {
      "name": "python3",
      "display_name": "Python 3"
    }
  },
  "cells": [
    {
      "cell_type": "markdown",
      "metadata": {
        "id": "view-in-github",
        "colab_type": "text"
      },
      "source": [
        "<a href=\"https://colab.research.google.com/github/mayurandhare13/DS_Intro_2/blob/master/Linear_Algebra_Foundations.ipynb\" target=\"_parent\"><img src=\"https://colab.research.google.com/assets/colab-badge.svg\" alt=\"Open In Colab\"/></a>"
      ]
    },
    {
      "metadata": {
        "id": "C6GiJ7ixeOOU",
        "colab_type": "text"
      },
      "cell_type": "markdown",
      "source": [
        "#Intro to Data Science Assignment 5\n",
        "##Linear Algebra Foundations\n",
        "\n",
        "For the short answers:\n",
        "     Feel free to do any additional research, but try your best to answer the questions in your own words (don't copy/paste).\n",
        "     \n",
        "For the computations by hand:\n",
        "      If you'd like to use LaTex to make things pretty, by all means give it a try, but it is *optional*. You can answer the questions using algebraic-like notation. For instance if I was adding two vectors:\n",
        "      \n",
        "[1,2] + [2,3] => (1+2), (2+3) => [3,5] \n",
        "\n",
        "**Show your work, not just the answer**\n",
        "\n",
        "For the graphs:\n",
        "   Make them as pretty as you like\n",
        "   \n",
        " For using the tools (numpy):\n",
        "    Use labeled print statements as shown"
      ]
    },
    {
      "metadata": {
        "id": "yJJdtDoVeiYV",
        "colab_type": "text"
      },
      "cell_type": "markdown",
      "source": [
        "#Short Answer Questions\n",
        "\n",
        "1) Describe a vector\n",
        "\n",
        "2) Describe a matrix\n",
        "\n",
        "3) What can we do with vectors?\n",
        "\n",
        "4) What are basis vectors?\n",
        "\n",
        "5) What is an inverse matrix?\n",
        "\n",
        "6) What is the transpose of a matrix?\n"
      ]
    },
    {
      "metadata": {
        "id": "J2okSel_f1lS",
        "colab_type": "text"
      },
      "cell_type": "markdown",
      "source": [
        "##Your Answers go here:\n",
        "\n",
        "1) Vector is a line segment, whose length is the magnitude of vector and arrow indicates direction.\n",
        "\n",
        "2) Matrix is a ractangular array of numbers or expressions or magnitude of vectors which represented in rows and columns.\n",
        "\n",
        "3) We can do vector addition, vector subtractions, scaler multiplication on vectors\n",
        "\n",
        "4) Basis vectors are used to build any other vector in given space which means basis of a vector space V is defined as a subset v1,v2,...,vn of vectors in that are linearly independent and span vector space V.\n",
        "\n",
        "5) Inverse matrix allow us to rewind or divide matrix multiplication. In square matrix if we want to divide matrix, so take the inverse and multiply with matrix. Its easy to multiply rather than divide. AX = B => A^-1 . A . X = A^-1. B => I.B  => A^-1. B\n",
        "\n",
        "6) transpose of matrix swaps rows to columns and vice-versa. OR it swaps elements along the main diagonal."
      ]
    },
    {
      "metadata": {
        "id": "Lb-jyiXZgHfH",
        "colab_type": "text"
      },
      "cell_type": "markdown",
      "source": [
        "#Computations by hand\n",
        "\n",
        "1) $ \\begin {bmatrix} 1 \\\\ 3 \\\\ 4 \\end {bmatrix} + \\begin {bmatrix} 4 \\\\ 2 \\\\ 6 \\end {bmatrix} $\n",
        "\n",
        "2) $ 5 \\begin {bmatrix} 1 \\\\ 2 \\\\ 3 \\end{bmatrix} $\n",
        "\n",
        "3) $ \\begin {bmatrix} 1  &  3\\\\ 2 & 3  \\end{bmatrix} \\begin {bmatrix} 1 \\\\ 2 \\end{bmatrix} $\n",
        "\n",
        "4) $ \\begin {bmatrix} 1  &  3\\\\ 2 & 3 \\end{bmatrix} \\begin {bmatrix} 2 & 2 \\\\ 3 & 1 \\end{bmatrix} $\n",
        "\n",
        "5) What is the transpose of :\n",
        "\n",
        "$ \\begin{bmatrix} 1 & 4 \\\\ 2 & 5 \\\\ 3 & 6 \\end{bmatrix} $ \n",
        "\n",
        "6) What is the determinant of:\n",
        "\n",
        " $\\begin {bmatrix} 2 & 2 \\\\ 3 & 1 \\end{bmatrix}$\n",
        " \n",
        " 7) What is the inverse matrix of: \n",
        " \n",
        "  $\\begin {bmatrix} 3 & 2 \\\\ 1 & 2 \\end{bmatrix}$"
      ]
    },
    {
      "metadata": {
        "id": "LdnLfusWjcZQ",
        "colab_type": "text"
      },
      "cell_type": "markdown",
      "source": [
        "## Your Answers go here:\n",
        "\n",
        "1) \n",
        "$\\begin {bmatrix} 5 & 5 & 10 \\end{bmatrix}$\n",
        "\n",
        "2) \n",
        "$\\begin {bmatrix} 5 & 10 & 15 \\end{bmatrix}$\n",
        "\n",
        "3) \n",
        "$\\begin {bmatrix} 7 & 8 \\end{bmatrix}$\n",
        "\n",
        "4) \n",
        " $\\begin {bmatrix} 11 & 5 \\\\ 13 & 7 \\end{bmatrix}$\n",
        "\n",
        "5) \n",
        "$ \\begin{bmatrix} 1 & 2 & 3 \\\\ 4& 5 & 6 \\end{bmatrix} $ \n",
        "\n",
        "6) -4\n",
        "\n",
        "7)   $\\begin {bmatrix} 1/2 & -1/2 \\\\ -1/4 & 3/4 \\end{bmatrix}$"
      ]
    },
    {
      "metadata": {
        "id": "B7q5osaBjo10",
        "colab_type": "text"
      },
      "cell_type": "markdown",
      "source": [
        "##Visualize the Vectors\n",
        "\n",
        "Graph the following:\n",
        "\n",
        "  Vector v_1 = [1,0] \n",
        "  \n",
        "  Vector v_2 = v_1 scaled by 2\n",
        "  \n",
        "  Vector v_3 = [0,-1]\n",
        "  \n",
        "  Vector v_4 = the sum of v_2 and v_3\n",
        " "
      ]
    },
    {
      "metadata": {
        "id": "uy65IMqbeNKw",
        "colab_type": "code",
        "colab": {
          "base_uri": "https://localhost:8080/",
          "height": 351
        },
        "outputId": "13b782f3-7507-4a37-a4b4-a565ac695044"
      },
      "cell_type": "code",
      "source": [
        "from matplotlib import pyplot as plt\n",
        "\n",
        "def add_vectors(c,d):\n",
        "  new_vector = list(map(lambda a,b: a+b, c, d))\n",
        "  return new_vector\n",
        "\n",
        "v_1 = [1, 0]\n",
        "v_2 = list(map(lambda x : x*2, v_1))\n",
        "v_3 = [0, -1]\n",
        "v_4 = add_vectors(v_2,v_3)\n",
        "\n",
        "\n",
        "plt.axis([-1, 3, -2, 2])\n",
        "plt.arrow(0, 0, v_1[0], v_1[1], head_width=.1, head_length=.15, color = \"red\")\n",
        "plt.arrow(0, 0, v_2[0], v_2[1], head_width=.1, head_length=.15, color = \"blue\")\n",
        "plt.arrow(0, 0, v_3[0], v_3[1], head_width=.1, head_length=.15, color = \"purple\")\n",
        "plt.arrow(0, 0, v_4[0], v_4[1], head_width=.1, head_length=.15, color = \"green\")\n",
        "plt.show()\n"
      ],
      "execution_count": 10,
      "outputs": [
        {
          "output_type": "display_data",
          "data": {
            "image/png": "[encoded data removed]",
            "text/plain": [
              "<matplotlib.figure.Figure at 0x7f0ff2b8cb38>"
            ]
          },
          "metadata": {
            "tags": []
          }
        }
      ]
    },
    {
      "metadata": {
        "id": "jWDov3LvlF9C",
        "colab_type": "text"
      },
      "cell_type": "markdown",
      "source": [
        "## Graph the Matrix\n",
        "\n",
        "Graph the columns and rows of this matrix: \n",
        " $\\begin {bmatrix} 2 & 2 \\\\ 3 & 1 \\end{bmatrix}$"
      ]
    },
    {
      "metadata": {
        "id": "Vru0b8zOlEUQ",
        "colab_type": "code",
        "colab": {
          "base_uri": "https://localhost:8080/",
          "height": 385
        },
        "outputId": "70eae0d6-9461-41cc-aa04-957542ad599a"
      },
      "cell_type": "code",
      "source": [
        "import numpy as np\n",
        "\n",
        "m = np.matrix('2, 2; 3, 1')\n",
        "print(m)\n",
        "\n",
        "plt.axis([0, 5, 0, 5])\n",
        "plt.arrow(0,0, m[0,0], m[1,0], head_width=.1, head_length=.15, color = \"red\")\n",
        "plt.arrow(0,0, m[0,1], m[1,1], head_width=.1, head_length=.15, color = \"blue\")\n",
        "plt.fill([0, 2, 4, 2],[0, 3, 4, 1], color = 'purple')\n",
        "plt.show()"
      ],
      "execution_count": 11,
      "outputs": [
        {
          "output_type": "stream",
          "text": [
            "[[2 2]\n",
            " [3 1]]\n"
          ],
          "name": "stdout"
        },
        {
          "output_type": "display_data",
          "data": {
            "image/png": "[encoded data removed]",
            "text/plain": [
              "<matplotlib.figure.Figure at 0x7f0ff2ce6c18>"
            ]
          },
          "metadata": {
            "tags": []
          }
        }
      ]
    },
    {
      "metadata": {
        "id": "QbBhyPwhlggH",
        "colab_type": "text"
      },
      "cell_type": "markdown",
      "source": [
        "## Using the tools: NumPy Edition\n",
        "\n",
        "Use the NumPy library to compute the \"Computations by Hand\" section. Make sure to print each answer and label your print statement"
      ]
    },
    {
      "metadata": {
        "id": "dTCB8F3W1iyb",
        "colab_type": "text"
      },
      "cell_type": "markdown",
      "source": [
        "MATRIX ADDITION"
      ]
    },
    {
      "metadata": {
        "id": "JcjUoEANlf8Q",
        "colab_type": "code",
        "outputId": "04ef613b-05ca-47b4-917c-e545c3bacd6f",
        "colab": {
          "base_uri": "https://localhost:8080/",
          "height": 68
        }
      },
      "cell_type": "code",
      "source": [
        "m_1 = np.matrix('1; 3; 4')\n",
        "m_2 = np.matrix('4; 2; 6')\n",
        "print(np.add(m_1, m_2))"
      ],
      "execution_count": 14,
      "outputs": [
        {
          "output_type": "stream",
          "text": [
            "[[ 5]\n",
            " [ 5]\n",
            " [10]]\n"
          ],
          "name": "stdout"
        }
      ]
    },
    {
      "metadata": {
        "id": "QpKynqtE1mKz",
        "colab_type": "text"
      },
      "cell_type": "markdown",
      "source": [
        "MATRIX SCALER MULTIPLICATION"
      ]
    },
    {
      "metadata": {
        "id": "zMZcWuC7y-18",
        "colab_type": "code",
        "colab": {
          "base_uri": "https://localhost:8080/",
          "height": 68
        },
        "outputId": "9faef033-f6ff-4659-b1b5-a33819630efe"
      },
      "cell_type": "code",
      "source": [
        "m_3 = np.matrix('1; 2; 3')\n",
        "print(m_3 * 5)"
      ],
      "execution_count": 17,
      "outputs": [
        {
          "output_type": "stream",
          "text": [
            "[[ 5]\n",
            " [10]\n",
            " [15]]\n"
          ],
          "name": "stdout"
        }
      ]
    },
    {
      "metadata": {
        "id": "NAl-Lkmh1vY4",
        "colab_type": "text"
      },
      "cell_type": "markdown",
      "source": [
        "MATRIX MULTIPLICATION"
      ]
    },
    {
      "metadata": {
        "id": "YmqtSPWuzaZw",
        "colab_type": "code",
        "colab": {
          "base_uri": "https://localhost:8080/",
          "height": 51
        },
        "outputId": "03fc8490-249a-4951-c343-42491c6b75fe"
      },
      "cell_type": "code",
      "source": [
        "m_4 = np.matrix('1, 3; 2, 3')\n",
        "m_5 = np.matrix('1; 2')\n",
        "print(np.matmul(m_4, m_5))"
      ],
      "execution_count": 18,
      "outputs": [
        {
          "output_type": "stream",
          "text": [
            "[[7]\n",
            " [8]]\n"
          ],
          "name": "stdout"
        }
      ]
    },
    {
      "metadata": {
        "id": "6jHgYgR8z2rm",
        "colab_type": "code",
        "colab": {
          "base_uri": "https://localhost:8080/",
          "height": 51
        },
        "outputId": "49c2f4d8-a6fa-4d3e-ea07-aa0bf2762c89"
      },
      "cell_type": "code",
      "source": [
        "m_6 = np.matrix('2, 2; 3, 1')\n",
        "print(np.matmul(m_4, m_6))"
      ],
      "execution_count": 19,
      "outputs": [
        {
          "output_type": "stream",
          "text": [
            "[[11  5]\n",
            " [13  7]]\n"
          ],
          "name": "stdout"
        }
      ]
    },
    {
      "metadata": {
        "id": "XlzVJ8u012Jz",
        "colab_type": "text"
      },
      "cell_type": "markdown",
      "source": [
        "MATRIX TRANSPOSE"
      ]
    },
    {
      "metadata": {
        "id": "QzMeKObl0ZYq",
        "colab_type": "code",
        "colab": {
          "base_uri": "https://localhost:8080/",
          "height": 51
        },
        "outputId": "a78428ec-301f-4802-db4d-ca9c54e68498"
      },
      "cell_type": "code",
      "source": [
        "m_7 = np.matrix('1, 4; 2, 5; 3, 6')\n",
        "print(np.transpose(m_7))"
      ],
      "execution_count": 20,
      "outputs": [
        {
          "output_type": "stream",
          "text": [
            "[[1 2 3]\n",
            " [4 5 6]]\n"
          ],
          "name": "stdout"
        }
      ]
    },
    {
      "metadata": {
        "id": "wlB5Z9Y416O3",
        "colab_type": "text"
      },
      "cell_type": "markdown",
      "source": [
        "MATRIX DETERMINANT"
      ]
    },
    {
      "metadata": {
        "id": "D8Fe_dFk019X",
        "colab_type": "code",
        "colab": {
          "base_uri": "https://localhost:8080/",
          "height": 34
        },
        "outputId": "039f90a1-45db-4ab6-e8d7-33312a9780d4"
      },
      "cell_type": "code",
      "source": [
        "print(np.linalg.det(m_6))"
      ],
      "execution_count": 22,
      "outputs": [
        {
          "output_type": "stream",
          "text": [
            "-4.000000000000001\n"
          ],
          "name": "stdout"
        }
      ]
    },
    {
      "metadata": {
        "id": "Gzwmq2Xr1-0K",
        "colab_type": "text"
      },
      "cell_type": "markdown",
      "source": [
        "MATRIX INVERSE"
      ]
    },
    {
      "metadata": {
        "id": "K5GSlfwK1Lk-",
        "colab_type": "code",
        "colab": {
          "base_uri": "https://localhost:8080/",
          "height": 51
        },
        "outputId": "9e122325-97a5-44ed-f5b0-69b4df7234d3"
      },
      "cell_type": "code",
      "source": [
        "m_8 = np.matrix('3, 2; 1, 2')\n",
        "print(np.linalg.inv(m_8))"
      ],
      "execution_count": 23,
      "outputs": [
        {
          "output_type": "stream",
          "text": [
            "[[ 0.5  -0.5 ]\n",
            " [-0.25  0.75]]\n"
          ],
          "name": "stdout"
        }
      ]
    },
    {
      "metadata": {
        "id": "XTxCOKXy1cq4",
        "colab_type": "code",
        "colab": {}
      },
      "cell_type": "code",
      "source": [
        ""
      ],
      "execution_count": 0,
      "outputs": []
    }
  ]
}
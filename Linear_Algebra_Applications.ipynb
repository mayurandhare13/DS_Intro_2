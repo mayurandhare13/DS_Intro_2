{
  "nbformat": 4,
  "nbformat_minor": 0,
  "metadata": {
    "colab": {
      "name": "MAYUR_ANDHARE_LSDS Intro Day 6 Assignment.ipynb",
      "version": "0.3.2",
      "provenance": [],
      "include_colab_link": true
    },
    "kernelspec": {
      "name": "python3",
      "display_name": "Python 3"
    }
  },
  "cells": [
    {
      "cell_type": "markdown",
      "metadata": {
        "id": "view-in-github",
        "colab_type": "text"
      },
      "source": [
        "<a href=\"https://colab.research.google.com/github/mayurandhare13/DS_Intro_2/blob/master/Linear_Algebra_Applications.ipynb\" target=\"_parent\"><img src=\"https://colab.research.google.com/assets/colab-badge.svg\" alt=\"Open In Colab\"/></a>"
      ]
    },
    {
      "metadata": {
        "id": "ZBEbTcJDzUmY",
        "colab_type": "text"
      },
      "cell_type": "markdown",
      "source": [
        "#Linear Algebra Applications Assignment\n",
        "\n"
      ]
    },
    {
      "metadata": {
        "id": "eL5Phm9uvdMN",
        "colab_type": "text"
      },
      "cell_type": "markdown",
      "source": [
        "\n",
        "\n",
        "### Your data:\n",
        "\n",
        "**chirps_per_sec** = chirps/sec for the striped ground cricket\n",
        "\n",
        "**temperature** = temperature in degrees Fahrenheit\n",
        "\n",
        "Reference: The Song of Insects by Dr.G.W. Pierce, Harvard College Press"
      ]
    },
    {
      "metadata": {
        "id": "5gk0TM_HBZQH",
        "colab_type": "code",
        "colab": {}
      },
      "cell_type": "code",
      "source": [
        ""
      ],
      "execution_count": 0,
      "outputs": []
    },
    {
      "metadata": {
        "id": "98zwjiT6XgIu",
        "colab_type": "code",
        "colab": {
          "base_uri": "https://localhost:8080/",
          "height": 255
        },
        "outputId": "2b35ffe3-26ee-429f-bae8-845e12173028"
      },
      "cell_type": "code",
      "source": [
        "!pip install xlrd\n",
        "import pandas as pd\n",
        "\n",
        "df = pd.read_excel('https://college.cengage.com/mathematics/brase/understandable_statistics/7e/students/datasets/slr/excel/slr02.xls')\n",
        "df = df.rename(columns={'X':'chirps_per_sec', 'Y':'temperature'})\n",
        "\n",
        "print(df.shape)\n",
        "df.head()"
      ],
      "execution_count": 1,
      "outputs": [
        {
          "output_type": "stream",
          "text": [
            "Requirement already satisfied: xlrd in /usr/local/lib/python3.6/dist-packages (1.1.0)\n",
            "*** No CODEPAGE record, no encoding_override: will use 'ascii'\n",
            "(15, 2)\n"
          ],
          "name": "stdout"
        },
        {
          "output_type": "execute_result",
          "data": {
            "text/html": [
              "<div>\n",
              "<style scoped>\n",
              "    .dataframe tbody tr th:only-of-type {\n",
              "        vertical-align: middle;\n",
              "    }\n",
              "\n",
              "    .dataframe tbody tr th {\n",
              "        vertical-align: top;\n",
              "    }\n",
              "\n",
              "    .dataframe thead th {\n",
              "        text-align: right;\n",
              "    }\n",
              "</style>\n",
              "<table border=\"1\" class=\"dataframe\">\n",
              "  <thead>\n",
              "    <tr style=\"text-align: right;\">\n",
              "      <th></th>\n",
              "      <th>chirps_per_sec</th>\n",
              "      <th>temperature</th>\n",
              "    </tr>\n",
              "  </thead>\n",
              "  <tbody>\n",
              "    <tr>\n",
              "      <th>0</th>\n",
              "      <td>20.000000</td>\n",
              "      <td>88.599998</td>\n",
              "    </tr>\n",
              "    <tr>\n",
              "      <th>1</th>\n",
              "      <td>16.000000</td>\n",
              "      <td>71.599998</td>\n",
              "    </tr>\n",
              "    <tr>\n",
              "      <th>2</th>\n",
              "      <td>19.799999</td>\n",
              "      <td>93.300003</td>\n",
              "    </tr>\n",
              "    <tr>\n",
              "      <th>3</th>\n",
              "      <td>18.400000</td>\n",
              "      <td>84.300003</td>\n",
              "    </tr>\n",
              "    <tr>\n",
              "      <th>4</th>\n",
              "      <td>17.100000</td>\n",
              "      <td>80.599998</td>\n",
              "    </tr>\n",
              "  </tbody>\n",
              "</table>\n",
              "</div>"
            ],
            "text/plain": [
              "   chirps_per_sec  temperature\n",
              "0       20.000000    88.599998\n",
              "1       16.000000    71.599998\n",
              "2       19.799999    93.300003\n",
              "3       18.400000    84.300003\n",
              "4       17.100000    80.599998"
            ]
          },
          "metadata": {
            "tags": []
          },
          "execution_count": 1
        }
      ]
    },
    {
      "metadata": {
        "id": "5oZeVIg12QE2",
        "colab_type": "text"
      },
      "cell_type": "markdown",
      "source": [
        "## 1) Graph a scatterplot of chirps_per_sec vs temperature "
      ]
    },
    {
      "metadata": {
        "id": "AECb-XTY2Ydq",
        "colab_type": "code",
        "colab": {
          "base_uri": "https://localhost:8080/",
          "height": 347
        },
        "outputId": "e3ed9694-802b-489a-c44a-ba75abb475bb"
      },
      "cell_type": "code",
      "source": [
        "from matplotlib import pyplot as plt\n",
        "\n",
        "plt.scatter(df.chirps_per_sec, df.temperature, marker = 'o')\n",
        "plt.show()"
      ],
      "execution_count": 2,
      "outputs": [
        {
          "output_type": "display_data",
          "data": {
            "image/png": "[encoded data removed]",
            "text/plain": [
              "<matplotlib.figure.Figure at 0x7f78d7958b38>"
            ]
          },
          "metadata": {
            "tags": []
          }
        }
      ]
    },
    {
      "metadata": {
        "id": "2aWNZV0V2bEJ",
        "colab_type": "text"
      },
      "cell_type": "markdown",
      "source": [
        "## 2) Follow the steps below to compute the coefficients (intercept and slope) for the line of best fit:\n",
        "\n",
        "## 2.1) Use np.ones to add a column of ones to the dataframe"
      ]
    },
    {
      "metadata": {
        "id": "cRlmMxmi2p1V",
        "colab_type": "code",
        "colab": {
          "base_uri": "https://localhost:8080/",
          "height": 204
        },
        "outputId": "502d3164-acc3-483d-a40f-4fc6b96e8dc1"
      },
      "cell_type": "code",
      "source": [
        "import numpy as np\n",
        "df['ones'] = np.ones(15)\n",
        "df.head()"
      ],
      "execution_count": 4,
      "outputs": [
        {
          "output_type": "execute_result",
          "data": {
            "text/html": [
              "<div>\n",
              "<style scoped>\n",
              "    .dataframe tbody tr th:only-of-type {\n",
              "        vertical-align: middle;\n",
              "    }\n",
              "\n",
              "    .dataframe tbody tr th {\n",
              "        vertical-align: top;\n",
              "    }\n",
              "\n",
              "    .dataframe thead th {\n",
              "        text-align: right;\n",
              "    }\n",
              "</style>\n",
              "<table border=\"1\" class=\"dataframe\">\n",
              "  <thead>\n",
              "    <tr style=\"text-align: right;\">\n",
              "      <th></th>\n",
              "      <th>chirps_per_sec</th>\n",
              "      <th>temperature</th>\n",
              "      <th>ones</th>\n",
              "    </tr>\n",
              "  </thead>\n",
              "  <tbody>\n",
              "    <tr>\n",
              "      <th>0</th>\n",
              "      <td>20.000000</td>\n",
              "      <td>88.599998</td>\n",
              "      <td>1.0</td>\n",
              "    </tr>\n",
              "    <tr>\n",
              "      <th>1</th>\n",
              "      <td>16.000000</td>\n",
              "      <td>71.599998</td>\n",
              "      <td>1.0</td>\n",
              "    </tr>\n",
              "    <tr>\n",
              "      <th>2</th>\n",
              "      <td>19.799999</td>\n",
              "      <td>93.300003</td>\n",
              "      <td>1.0</td>\n",
              "    </tr>\n",
              "    <tr>\n",
              "      <th>3</th>\n",
              "      <td>18.400000</td>\n",
              "      <td>84.300003</td>\n",
              "      <td>1.0</td>\n",
              "    </tr>\n",
              "    <tr>\n",
              "      <th>4</th>\n",
              "      <td>17.100000</td>\n",
              "      <td>80.599998</td>\n",
              "      <td>1.0</td>\n",
              "    </tr>\n",
              "  </tbody>\n",
              "</table>\n",
              "</div>"
            ],
            "text/plain": [
              "   chirps_per_sec  temperature  ones\n",
              "0       20.000000    88.599998   1.0\n",
              "1       16.000000    71.599998   1.0\n",
              "2       19.799999    93.300003   1.0\n",
              "3       18.400000    84.300003   1.0\n",
              "4       17.100000    80.599998   1.0"
            ]
          },
          "metadata": {
            "tags": []
          },
          "execution_count": 4
        }
      ]
    },
    {
      "metadata": {
        "id": "OJfdQP9x2sI0",
        "colab_type": "text"
      },
      "cell_type": "markdown",
      "source": [
        "## 2.2) Create your X matrix from the 'ones' and 'temperature' columns"
      ]
    },
    {
      "metadata": {
        "id": "Xv86TNYh2z15",
        "colab_type": "code",
        "colab": {
          "base_uri": "https://localhost:8080/",
          "height": 272
        },
        "outputId": "f3cb7bf8-3bfb-466c-cb8b-b58f71dcd245"
      },
      "cell_type": "code",
      "source": [
        "X = df[['ones', 'temperature']].as_matrix()\n",
        "print(X)"
      ],
      "execution_count": 5,
      "outputs": [
        {
          "output_type": "stream",
          "text": [
            "[[ 1.         88.59999847]\n",
            " [ 1.         71.59999847]\n",
            " [ 1.         93.30000305]\n",
            " [ 1.         84.30000305]\n",
            " [ 1.         80.59999847]\n",
            " [ 1.         75.19999695]\n",
            " [ 1.         69.69999695]\n",
            " [ 1.         82.        ]\n",
            " [ 1.         69.40000153]\n",
            " [ 1.         83.30000305]\n",
            " [ 1.         79.59999847]\n",
            " [ 1.         82.59999847]\n",
            " [ 1.         80.59999847]\n",
            " [ 1.         83.5       ]\n",
            " [ 1.         76.30000305]]\n"
          ],
          "name": "stdout"
        }
      ]
    },
    {
      "metadata": {
        "id": "ynw-nyzF23Wj",
        "colab_type": "text"
      },
      "cell_type": "markdown",
      "source": [
        "## 2.3) Create your Y vector from the chips_per_sec column. (Make sure that it is formatted as a column vector.)"
      ]
    },
    {
      "metadata": {
        "id": "--prRurc3Buq",
        "colab_type": "code",
        "colab": {
          "base_uri": "https://localhost:8080/",
          "height": 272
        },
        "outputId": "94336cdd-4dca-4af8-ea51-27897ba3b9bc"
      },
      "cell_type": "code",
      "source": [
        "Y = df['chirps_per_sec'].as_matrix().reshape(-1, 1)\n",
        "print(Y)"
      ],
      "execution_count": 23,
      "outputs": [
        {
          "output_type": "stream",
          "text": [
            "[[20.        ]\n",
            " [16.        ]\n",
            " [19.79999924]\n",
            " [18.39999962]\n",
            " [17.10000038]\n",
            " [15.5       ]\n",
            " [14.69999981]\n",
            " [17.10000038]\n",
            " [15.39999962]\n",
            " [16.20000076]\n",
            " [15.        ]\n",
            " [17.20000076]\n",
            " [16.        ]\n",
            " [17.        ]\n",
            " [14.39999962]]\n"
          ],
          "name": "stdout"
        }
      ]
    },
    {
      "metadata": {
        "id": "m6x387_d3FJF",
        "colab_type": "text"
      },
      "cell_type": "markdown",
      "source": [
        "## 2.4) Calculate X_transpose and print the result: $X^{T}$ "
      ]
    },
    {
      "metadata": {
        "id": "9ifTSQu93NT7",
        "colab_type": "code",
        "colab": {
          "base_uri": "https://localhost:8080/",
          "height": 119
        },
        "outputId": "350b7f3f-5ec2-41d8-dd9c-2ae4fb16a27f"
      },
      "cell_type": "code",
      "source": [
        "X_transpose = np.transpose(X)\n",
        "print(X_transpose)"
      ],
      "execution_count": 10,
      "outputs": [
        {
          "output_type": "stream",
          "text": [
            "[[ 1.          1.          1.          1.          1.          1.\n",
            "   1.          1.          1.          1.          1.          1.\n",
            "   1.          1.          1.        ]\n",
            " [88.59999847 71.59999847 93.30000305 84.30000305 80.59999847 75.19999695\n",
            "  69.69999695 82.         69.40000153 83.30000305 79.59999847 82.59999847\n",
            "  80.59999847 83.5        76.30000305]]\n"
          ],
          "name": "stdout"
        }
      ]
    },
    {
      "metadata": {
        "id": "UXp5-eOH3QgG",
        "colab_type": "text"
      },
      "cell_type": "markdown",
      "source": [
        "## 2.5) Calculate X_transpose_X and print the result: $X^{T}X$"
      ]
    },
    {
      "metadata": {
        "id": "w6G8_DCw3Pw_",
        "colab_type": "code",
        "colab": {}
      },
      "cell_type": "code",
      "source": [
        "X_transpose_X = np.matmul(X_transpose, X)"
      ],
      "execution_count": 0,
      "outputs": []
    },
    {
      "metadata": {
        "id": "maQVOiZ03fuj",
        "colab_type": "text"
      },
      "cell_type": "markdown",
      "source": [
        "## 2.6) Calculate the inverse of X_transpose_X and print the result: $(X^{T}X)^{-1}$ "
      ]
    },
    {
      "metadata": {
        "id": "htk9bCmN3zUT",
        "colab_type": "code",
        "colab": {}
      },
      "cell_type": "code",
      "source": [
        "inverse = np.linalg.inv(X_transpose_X)"
      ],
      "execution_count": 0,
      "outputs": []
    },
    {
      "metadata": {
        "id": "jKEkWq-j30ty",
        "colab_type": "text"
      },
      "cell_type": "markdown",
      "source": [
        "## 2.7) An aside: Multiply the X_tranpose_X matrix against its inverse: $(X^{T}X)(X^{T}X)^{-1}$  Print the result. What is the name for the resulting matrix?"
      ]
    },
    {
      "metadata": {
        "id": "P5HWnZdS4A3u",
        "colab_type": "code",
        "colab": {
          "base_uri": "https://localhost:8080/",
          "height": 51
        },
        "outputId": "72a371d0-aa07-4a4e-9d7f-87f7aec13ee9"
      },
      "cell_type": "code",
      "source": [
        "identity_mat = np.matmul(X_transpose_X, inverse)\n",
        "print(identity_mat)"
      ],
      "execution_count": 15,
      "outputs": [
        {
          "output_type": "stream",
          "text": [
            "[[1.00000000e+00 6.01565053e-17]\n",
            " [3.50588784e-13 1.00000000e+00]]\n"
          ],
          "name": "stdout"
        }
      ]
    },
    {
      "metadata": {
        "id": "aSbkbyT72QYW",
        "colab_type": "text"
      },
      "cell_type": "markdown",
      "source": [
        "## 2.8) Calculate X_transpose_Y and print the result: $X^{T}Y$"
      ]
    },
    {
      "metadata": {
        "id": "V_05w71-4RLh",
        "colab_type": "code",
        "colab": {}
      },
      "cell_type": "code",
      "source": [
        "X_transpose_Y = np.matmul(np.transpose(X), Y)"
      ],
      "execution_count": 0,
      "outputs": []
    },
    {
      "metadata": {
        "id": "rJCc26lh2Qa9",
        "colab_type": "text"
      },
      "cell_type": "markdown",
      "source": [
        "## 2.9) Finally, calculate the Beta coefficients vector by multiplying the left and right halfs of the linear regression equation. Print the Beta vector: $\\beta = (X^{T}X)^{-1} X^{T}Y$  \n",
        "(You should have all of the parts to do this now)"
      ]
    },
    {
      "metadata": {
        "id": "yTLRwR2h4kaO",
        "colab_type": "code",
        "colab": {
          "base_uri": "https://localhost:8080/",
          "height": 51
        },
        "outputId": "3d73da7a-f9a9-4a35-c97b-881851423a89"
      },
      "cell_type": "code",
      "source": [
        "beta = np.matmul(inverse, X_transpose_Y)\n",
        "print(beta)"
      ],
      "execution_count": 22,
      "outputs": [
        {
          "output_type": "stream",
          "text": [
            "[[-0.3091419 ]\n",
            " [ 0.21192498]]\n"
          ],
          "name": "stdout"
        }
      ]
    },
    {
      "metadata": {
        "id": "tKxoqI_DyCYq",
        "colab_type": "code",
        "colab": {
          "base_uri": "https://localhost:8080/",
          "height": 51
        },
        "outputId": "c5b20da1-f93e-4223-cb54-8660fdf1cc00"
      },
      "cell_type": "code",
      "source": [
        "beta_0 = beta[0,0]\n",
        "beta_1 = beta[1,0]\n",
        "\n",
        "print(beta_0)\n",
        "print(beta_1)"
      ],
      "execution_count": 19,
      "outputs": [
        {
          "output_type": "stream",
          "text": [
            "-0.3091418981798597\n",
            "0.2119249783368211\n"
          ],
          "name": "stdout"
        }
      ]
    },
    {
      "metadata": {
        "id": "m0YYw0WQ2Qeq",
        "colab_type": "text"
      },
      "cell_type": "markdown",
      "source": [
        "## 3) Graph the line of best fit through the scatterplot of the data points"
      ]
    },
    {
      "metadata": {
        "id": "txgLJSAF4Ptc",
        "colab_type": "code",
        "colab": {
          "base_uri": "https://localhost:8080/",
          "height": 376
        },
        "outputId": "9a35d2f8-ac38-47ca-dee7-1119e15dc9d6"
      },
      "cell_type": "code",
      "source": [
        "plt.scatter(df.temperature, df.chirps_per_sec, marker = 'o')\n",
        "axes = plt.gca()\n",
        "x_vals = np.array(axes.get_xlim())\n",
        "y_vals = beta_0 + beta_1 * x_vals\n",
        "plt.plot(x_vals, y_vals, '--', color='b')\n",
        "plt.title('Chirps Regression Line')\n",
        "plt.xlabel('temperature')\n",
        "plt.ylabel('Chirps per sec')\n",
        "plt.show()"
      ],
      "execution_count": 28,
      "outputs": [
        {
          "output_type": "display_data",
          "data": {
            "image/png": "[encoded data removed]",
            "text/plain": [
              "<matplotlib.figure.Figure at 0x7f78d3f7dbe0>"
            ]
          },
          "metadata": {
            "tags": []
          }
        }
      ]
    },
    {
      "metadata": {
        "id": "aUcBfGgW2QhL",
        "colab_type": "text"
      },
      "cell_type": "markdown",
      "source": [
        "## 4) If a cricket has chirped 19 times in a second what is the predicted temperature? Plot this prediction as well."
      ]
    },
    {
      "metadata": {
        "id": "ibDbYkdvv9Nt",
        "colab_type": "code",
        "colab": {
          "base_uri": "https://localhost:8080/",
          "height": 34
        },
        "outputId": "72f768ac-047a-4b25-c19e-0a5c1cbfb2bd"
      },
      "cell_type": "code",
      "source": [
        "y_vals = beta_0 + beta_1 * 19\n",
        "print(y_vals)"
      ],
      "execution_count": 25,
      "outputs": [
        {
          "output_type": "stream",
          "text": [
            "3.7174326902197414\n"
          ],
          "name": "stdout"
        }
      ]
    },
    {
      "metadata": {
        "id": "NTP8CSuQ0_qq",
        "colab_type": "text"
      },
      "cell_type": "markdown",
      "source": [
        "##Stretch Problem\n",
        "Let's add a 3rd dimension. \n",
        "\n",
        "X1 = systolic blood pressure\n",
        "\n",
        "X2 = age in years\n",
        "\n",
        "X3 = weight in pounds\n",
        "\n",
        "Compute the coefficients for the **plane** of best fit for\n",
        "\n",
        "$X_1 = \\beta_1X_2 + \\beta_2X_3 + \\beta_0$\n",
        "\n",
        "Then graph the plane in addition to the  datapoints in a **3D** graph.\n",
        "An article to get you started on [3D graphing](https://jakevdp.github.io/PythonDataScienceHandbook/04.12-three-dimensional-plotting.html)"
      ]
    },
    {
      "metadata": {
        "id": "wghLKfsz0_HX",
        "colab_type": "code",
        "colab": {
          "base_uri": "https://localhost:8080/",
          "height": 255
        },
        "outputId": "e40ebd94-145c-4ee6-987f-03404e1179c3"
      },
      "cell_type": "code",
      "source": [
        "s_data = pd.read_excel('https://college.cengage.com/mathematics/brase/understandable_statistics/7e/students/datasets/mlr/excel/mlr02.xls')\n",
        "print(s_data)\n",
        "s_data.shape"
      ],
      "execution_count": 45,
      "outputs": [
        {
          "output_type": "stream",
          "text": [
            "*** No CODEPAGE record, no encoding_override: will use 'ascii'\n",
            "     X1  X2   X3\n",
            "0   132  52  173\n",
            "1   143  59  184\n",
            "2   153  67  194\n",
            "3   162  73  211\n",
            "4   154  64  196\n",
            "5   168  74  220\n",
            "6   137  54  188\n",
            "7   149  61  188\n",
            "8   159  65  207\n",
            "9   128  46  167\n",
            "10  166  72  217\n"
          ],
          "name": "stdout"
        },
        {
          "output_type": "execute_result",
          "data": {
            "text/plain": [
              "(11, 3)"
            ]
          },
          "metadata": {
            "tags": []
          },
          "execution_count": 45
        }
      ]
    },
    {
      "metadata": {
        "id": "TsPQInNY1j1J",
        "colab_type": "code",
        "colab": {}
      },
      "cell_type": "code",
      "source": [
        "s_data['Ones'] = np.ones(11)"
      ],
      "execution_count": 0,
      "outputs": []
    },
    {
      "metadata": {
        "id": "sfQ6pD-g2Hcl",
        "colab_type": "code",
        "colab": {}
      },
      "cell_type": "code",
      "source": [
        "X = s_data[['Ones', 'X2', 'X3']].as_matrix()\n",
        "Y = s_data['X1'].as_matrix().reshape(-1, 1)"
      ],
      "execution_count": 0,
      "outputs": []
    },
    {
      "metadata": {
        "id": "355uOKnT2VsQ",
        "colab_type": "code",
        "colab": {
          "base_uri": "https://localhost:8080/",
          "height": 68
        },
        "outputId": "0b3e0e91-afff-42f2-f53c-10412a1bee6b"
      },
      "cell_type": "code",
      "source": [
        "beta = np.matmul(np.linalg.inv(np.matmul(np.transpose(X), X)), np.matmul(np.transpose(X), Y))\n",
        "print(beta)"
      ],
      "execution_count": 48,
      "outputs": [
        {
          "output_type": "stream",
          "text": [
            "[[30.99410295]\n",
            " [ 0.86141469]\n",
            " [ 0.3348592 ]]\n"
          ],
          "name": "stdout"
        }
      ]
    },
    {
      "metadata": {
        "id": "CNfKltTW5CGt",
        "colab_type": "code",
        "colab": {
          "base_uri": "https://localhost:8080/",
          "height": 68
        },
        "outputId": "1df0ad9a-775b-4f0b-b57f-1f1db9566c6f"
      },
      "cell_type": "code",
      "source": [
        "beta_0 = beta[0,0]\n",
        "beta_1 = beta[1,0]\n",
        "beta_2 = beta[2, 0]\n",
        "\n",
        "print(beta_0)\n",
        "print(beta_1)\n",
        "print(beta_2)"
      ],
      "execution_count": 50,
      "outputs": [
        {
          "output_type": "stream",
          "text": [
            "30.99410295233247\n",
            "0.8614146864683789\n",
            "0.33485919716576973\n"
          ],
          "name": "stdout"
        }
      ]
    },
    {
      "metadata": {
        "id": "aip1wY0C2eZX",
        "colab_type": "code",
        "colab": {
          "base_uri": "https://localhost:8080/",
          "height": 330
        },
        "outputId": "9ce48d03-13ba-4fd7-db9e-fd7fa2ae5f2f"
      },
      "cell_type": "code",
      "source": [
        "from mpl_toolkits import mplot3d\n",
        "ax = plt.axes(projection='3d')\n",
        "\n",
        "# Data for a three-dimensional line\n",
        "xline = np.linspace(50, 75, 100)\n",
        "yline = np.linspace(150, 220, 100)\n",
        "zline = beta_0 + beta_1 * xline + beta_2 * yline \n",
        "ax.plot3D(xline, yline, zline, 'red')\n",
        "\n",
        "# Data for three-dimensional scattered points\n",
        "ax.scatter3D(s_data.X2, s_data.X3, s_data.X1, cmap='Blues');"
      ],
      "execution_count": 63,
      "outputs": [
        {
          "output_type": "display_data",
          "data": {
            "image/png": "[encoded data removed]",
            "text/plain": [
              "<matplotlib.figure.Figure at 0x7f78d3559ac8>"
            ]
          },
          "metadata": {
            "tags": []
          }
        }
      ]
    },
    {
      "metadata": {
        "id": "TPtvJ7GU3A9u",
        "colab_type": "code",
        "colab": {}
      },
      "cell_type": "code",
      "source": [
        ""
      ],
      "execution_count": 0,
      "outputs": []
    }
  ]
}
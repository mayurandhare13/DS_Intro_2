{
  "nbformat": 4,
  "nbformat_minor": 0,
  "metadata": {
    "colab": {
      "name": "MAYUR ANDHARE Intro Assignment 7 - More Regression.ipynb",
      "version": "0.3.2",
      "provenance": [],
      "include_colab_link": true
    },
    "kernelspec": {
      "display_name": "Python 3",
      "language": "python",
      "name": "python3"
    }
  },
  "cells": [
    {
      "cell_type": "markdown",
      "metadata": {
        "id": "view-in-github",
        "colab_type": "text"
      },
      "source": [
        "<a href=\"https://colab.research.google.com/github/mayurandhare13/DS_Intro_2/blob/master/More_Regression.ipynb\" target=\"_parent\"><img src=\"https://colab.research.google.com/assets/colab-badge.svg\" alt=\"Open In Colab\"/></a>"
      ]
    },
    {
      "metadata": {
        "id": "T9H4rAOJmyXO",
        "colab_type": "text"
      },
      "cell_type": "markdown",
      "source": [
        "\n",
        "\n",
        "### 1. Experiment with Nearest Neighbor parameter\n",
        "\n",
        "Using the same 10 training data points from the lesson, train a `KNeighborsRegressor` model with `n_neighbors=1`.\n",
        "\n",
        "Use both `carat` and `cut` features.\n",
        "\n",
        "Calculate the mean absolute error on the training data and on the test data."
      ]
    },
    {
      "metadata": {
        "id": "CKsxHHzmmyXP",
        "colab_type": "code",
        "colab": {}
      },
      "cell_type": "code",
      "source": [
        "%matplotlib inline\n",
        "import matplotlib.pyplot as plt\n",
        "import pandas as pd\n",
        "from sklearn.neighbors import KNeighborsRegressor\n",
        "from sklearn.metrics import mean_absolute_error\n",
        "\n",
        "columns = ['carat', 'cut', 'price']\n",
        "\n",
        "train = pd.DataFrame(columns=columns, \n",
        "        data=[[0.3, 'Ideal', 422],\n",
        "        [0.31, 'Ideal', 489],\n",
        "        [0.42, 'Premium', 737],\n",
        "        [0.5, 'Ideal', 1415],\n",
        "        [0.51, 'Premium', 1177],\n",
        "        [0.7, 'Fair', 1865],\n",
        "        [0.73, 'Fair', 2351],\n",
        "        [1.01, 'Good', 3768],\n",
        "        [1.18, 'Very Good', 3965],\n",
        "        [1.18, 'Ideal', 4838]])\n",
        "\n",
        "test  = pd.DataFrame(columns=columns, \n",
        "        data=[[0.3, 'Ideal', 432],\n",
        "        [0.34, 'Ideal', 687],\n",
        "        [0.37, 'Premium', 1124],\n",
        "        [0.4, 'Good', 720],\n",
        "        [0.51, 'Ideal', 1397],\n",
        "        [0.51, 'Very Good', 1284],\n",
        "        [0.59, 'Ideal', 1437],\n",
        "        [0.7, 'Ideal', 3419],\n",
        "        [0.9, 'Premium', 3484],\n",
        "        [0.9, 'Fair', 2964]])\n",
        "\n",
        "cut_ranks = {'Fair': 1, 'Good': 2, 'Very Good': 3, 'Premium': 4, 'Ideal': 5}\n",
        "train.cut = train.cut.map(cut_ranks)\n",
        "test.cut = test.cut.map(cut_ranks)"
      ],
      "execution_count": 0,
      "outputs": []
    },
    {
      "metadata": {
        "id": "nW0BAEyddui4",
        "colab_type": "code",
        "colab": {}
      },
      "cell_type": "code",
      "source": [
        "def check_errors(classifier, train, test, features, target):\n",
        "  y_train = classifier.predict(train[features])\n",
        "  train_error = mean_absolute_error(train[target], y_train)\n",
        "  print(train_error)\n",
        "\n",
        "  y_test = classifier.predict(test[features])\n",
        "  test_error = mean_absolute_error(test[target], y_test)\n",
        "  print(test_error)"
      ],
      "execution_count": 0,
      "outputs": []
    },
    {
      "metadata": {
        "id": "8_MbShHReDz_",
        "colab_type": "code",
        "colab": {
          "base_uri": "https://localhost:8080/",
          "height": 68
        },
        "outputId": "1717337f-32af-487e-85df-eeaeb51803ed"
      },
      "cell_type": "code",
      "source": [
        "features = ['carat']\n",
        "target = 'price'\n",
        "\n",
        "model_1 = KNeighborsRegressor(n_neighbors=2)\n",
        "model_1.fit(train[features], train[target])"
      ],
      "execution_count": 38,
      "outputs": [
        {
          "output_type": "execute_result",
          "data": {
            "text/plain": [
              "KNeighborsRegressor(algorithm='auto', leaf_size=30, metric='minkowski',\n",
              "          metric_params=None, n_jobs=None, n_neighbors=2, p=2,\n",
              "          weights='uniform')"
            ]
          },
          "metadata": {
            "tags": []
          },
          "execution_count": 38
        }
      ]
    },
    {
      "metadata": {
        "id": "2KUZ_mk2eLDa",
        "colab_type": "code",
        "colab": {
          "base_uri": "https://localhost:8080/",
          "height": 51
        },
        "outputId": "05cec5d9-7c01-43ae-8e89-987035e5a975"
      },
      "cell_type": "code",
      "source": [
        "check_errors(model_1, train, test, features, target)"
      ],
      "execution_count": 39,
      "outputs": [
        {
          "output_type": "stream",
          "text": [
            "210.15\n",
            "295.8\n"
          ],
          "name": "stdout"
        }
      ]
    },
    {
      "metadata": {
        "id": "4MrRasT_myXT",
        "colab_type": "code",
        "colab": {
          "base_uri": "https://localhost:8080/",
          "height": 68
        },
        "outputId": "594b37e2-1edb-4d34-9391-9a65a3cb966e"
      },
      "cell_type": "code",
      "source": [
        "features = ['carat', 'cut']\n",
        "target = 'price'\n",
        "\n",
        "model_2 = KNeighborsRegressor(n_neighbors=1)\n",
        "model_2.fit(train[features], train[target])"
      ],
      "execution_count": 41,
      "outputs": [
        {
          "output_type": "execute_result",
          "data": {
            "text/plain": [
              "KNeighborsRegressor(algorithm='auto', leaf_size=30, metric='minkowski',\n",
              "          metric_params=None, n_jobs=None, n_neighbors=1, p=2,\n",
              "          weights='uniform')"
            ]
          },
          "metadata": {
            "tags": []
          },
          "execution_count": 41
        }
      ]
    },
    {
      "metadata": {
        "id": "nMdCMY0vc_Ar",
        "colab_type": "code",
        "colab": {
          "base_uri": "https://localhost:8080/",
          "height": 51
        },
        "outputId": "c6c153c7-c418-40f9-9f5f-f1c62e267fe4"
      },
      "cell_type": "code",
      "source": [
        "check_errors(model_2, train, test, features, target)"
      ],
      "execution_count": 42,
      "outputs": [
        {
          "output_type": "stream",
          "text": [
            "0.0\n",
            "1128.8\n"
          ],
          "name": "stdout"
        }
      ]
    },
    {
      "metadata": {
        "id": "NQQveVK9myXV",
        "colab_type": "text"
      },
      "cell_type": "markdown",
      "source": [
        "How does the train error and test error compare to the previous `KNeighborsRegressor` model from the lesson? (The previous model used `n_neighbors=2` and only the `carat` feature.)\n",
        "\n",
        "Is this new model overfitting or underfitting? Why do you think this is happening here? \n",
        "\n"
      ]
    },
    {
      "metadata": {
        "id": "BqQ-H1NpehO3",
        "colab_type": "text"
      },
      "cell_type": "markdown",
      "source": [
        "=> in model 2 with 2 features and n_neighbors=1, model is overfitting which gives 0 training error and very high testing error. But on the other hand, model 1 is tries to justify test data giving much lower errors."
      ]
    },
    {
      "metadata": {
        "id": "zQJDW1-QmyXW",
        "colab_type": "text"
      },
      "cell_type": "markdown",
      "source": [
        "### 2. More data, two features, linear regression\n",
        "\n",
        "Use the following code to load data for diamonds under $5,000, and split the data into train and test sets. The training data has almost 30,000 rows, and the test data has almost 10,000 rows."
      ]
    },
    {
      "metadata": {
        "id": "IDXEn8lvmyXW",
        "colab_type": "code",
        "outputId": "6fee75f8-4138-40b3-badd-4a3007084874",
        "colab": {
          "base_uri": "https://localhost:8080/",
          "height": 51
        }
      },
      "cell_type": "code",
      "source": [
        "import seaborn as sns\n",
        "from sklearn.linear_model import LinearRegression\n",
        "from sklearn.model_selection import train_test_split\n",
        "\n",
        "df_diamond = sns.load_dataset('diamonds')\n",
        "print(\"Original Data:- \", df_diamond.shape)\n",
        "\n",
        "df_diamond = df_diamond[df_diamond.price < 5000]\n",
        "train_2, test_2 = train_test_split(df_diamond.copy(), random_state=0, test_size = 0.25)\n",
        "train_2.shape, test_2.shape"
      ],
      "execution_count": 65,
      "outputs": [
        {
          "output_type": "stream",
          "text": [
            "Original Data:-  (53940, 10)\n"
          ],
          "name": "stdout"
        },
        {
          "output_type": "execute_result",
          "data": {
            "text/plain": [
              "((29409, 10), (9804, 10))"
            ]
          },
          "metadata": {
            "tags": []
          },
          "execution_count": 65
        }
      ]
    },
    {
      "metadata": {
        "id": "1VZ7PH6nmyXZ",
        "colab_type": "text"
      },
      "cell_type": "markdown",
      "source": [
        "Then, train a Linear Regression model with the `carat` and `cut` features. Calculate the mean absolute error on the training data and on the test data."
      ]
    },
    {
      "metadata": {
        "id": "XCTsEqZtmyXZ",
        "colab_type": "code",
        "colab": {
          "base_uri": "https://localhost:8080/",
          "height": 359
        },
        "outputId": "b62624d4-11d0-49be-c1aa-091d98037256"
      },
      "cell_type": "code",
      "source": [
        "train_2.head(10)"
      ],
      "execution_count": 66,
      "outputs": [
        {
          "output_type": "execute_result",
          "data": {
            "text/html": [
              "<div>\n",
              "<style scoped>\n",
              "    .dataframe tbody tr th:only-of-type {\n",
              "        vertical-align: middle;\n",
              "    }\n",
              "\n",
              "    .dataframe tbody tr th {\n",
              "        vertical-align: top;\n",
              "    }\n",
              "\n",
              "    .dataframe thead th {\n",
              "        text-align: right;\n",
              "    }\n",
              "</style>\n",
              "<table border=\"1\" class=\"dataframe\">\n",
              "  <thead>\n",
              "    <tr style=\"text-align: right;\">\n",
              "      <th></th>\n",
              "      <th>carat</th>\n",
              "      <th>cut</th>\n",
              "      <th>color</th>\n",
              "      <th>clarity</th>\n",
              "      <th>depth</th>\n",
              "      <th>table</th>\n",
              "      <th>price</th>\n",
              "      <th>x</th>\n",
              "      <th>y</th>\n",
              "      <th>z</th>\n",
              "    </tr>\n",
              "  </thead>\n",
              "  <tbody>\n",
              "    <tr>\n",
              "      <th>43601</th>\n",
              "      <td>0.31</td>\n",
              "      <td>Very Good</td>\n",
              "      <td>E</td>\n",
              "      <td>SI1</td>\n",
              "      <td>61.2</td>\n",
              "      <td>58.0</td>\n",
              "      <td>507</td>\n",
              "      <td>4.34</td>\n",
              "      <td>4.38</td>\n",
              "      <td>2.67</td>\n",
              "    </tr>\n",
              "    <tr>\n",
              "      <th>52706</th>\n",
              "      <td>0.74</td>\n",
              "      <td>Fair</td>\n",
              "      <td>H</td>\n",
              "      <td>VS2</td>\n",
              "      <td>66.1</td>\n",
              "      <td>61.0</td>\n",
              "      <td>2553</td>\n",
              "      <td>5.60</td>\n",
              "      <td>5.57</td>\n",
              "      <td>3.69</td>\n",
              "    </tr>\n",
              "    <tr>\n",
              "      <th>1986</th>\n",
              "      <td>0.81</td>\n",
              "      <td>Very Good</td>\n",
              "      <td>G</td>\n",
              "      <td>SI1</td>\n",
              "      <td>62.3</td>\n",
              "      <td>59.0</td>\n",
              "      <td>3095</td>\n",
              "      <td>5.93</td>\n",
              "      <td>5.98</td>\n",
              "      <td>3.71</td>\n",
              "    </tr>\n",
              "    <tr>\n",
              "      <th>48617</th>\n",
              "      <td>0.70</td>\n",
              "      <td>Fair</td>\n",
              "      <td>G</td>\n",
              "      <td>SI2</td>\n",
              "      <td>61.5</td>\n",
              "      <td>66.0</td>\n",
              "      <td>1999</td>\n",
              "      <td>5.55</td>\n",
              "      <td>5.60</td>\n",
              "      <td>3.43</td>\n",
              "    </tr>\n",
              "    <tr>\n",
              "      <th>10947</th>\n",
              "      <td>0.87</td>\n",
              "      <td>Ideal</td>\n",
              "      <td>G</td>\n",
              "      <td>VS2</td>\n",
              "      <td>61.8</td>\n",
              "      <td>56.0</td>\n",
              "      <td>4899</td>\n",
              "      <td>6.11</td>\n",
              "      <td>6.13</td>\n",
              "      <td>3.78</td>\n",
              "    </tr>\n",
              "    <tr>\n",
              "      <th>44833</th>\n",
              "      <td>0.51</td>\n",
              "      <td>Good</td>\n",
              "      <td>E</td>\n",
              "      <td>SI1</td>\n",
              "      <td>64.3</td>\n",
              "      <td>55.0</td>\n",
              "      <td>1624</td>\n",
              "      <td>5.12</td>\n",
              "      <td>5.05</td>\n",
              "      <td>3.27</td>\n",
              "    </tr>\n",
              "    <tr>\n",
              "      <th>13047</th>\n",
              "      <td>0.38</td>\n",
              "      <td>Very Good</td>\n",
              "      <td>I</td>\n",
              "      <td>SI1</td>\n",
              "      <td>59.7</td>\n",
              "      <td>62.0</td>\n",
              "      <td>601</td>\n",
              "      <td>4.70</td>\n",
              "      <td>4.74</td>\n",
              "      <td>2.82</td>\n",
              "    </tr>\n",
              "    <tr>\n",
              "      <th>2737</th>\n",
              "      <td>0.71</td>\n",
              "      <td>Ideal</td>\n",
              "      <td>E</td>\n",
              "      <td>VS2</td>\n",
              "      <td>62.5</td>\n",
              "      <td>55.0</td>\n",
              "      <td>3247</td>\n",
              "      <td>5.67</td>\n",
              "      <td>5.73</td>\n",
              "      <td>3.56</td>\n",
              "    </tr>\n",
              "    <tr>\n",
              "      <th>2052</th>\n",
              "      <td>0.32</td>\n",
              "      <td>Premium</td>\n",
              "      <td>G</td>\n",
              "      <td>VS2</td>\n",
              "      <td>62.0</td>\n",
              "      <td>58.0</td>\n",
              "      <td>561</td>\n",
              "      <td>4.33</td>\n",
              "      <td>4.38</td>\n",
              "      <td>2.70</td>\n",
              "    </tr>\n",
              "    <tr>\n",
              "      <th>22365</th>\n",
              "      <td>0.31</td>\n",
              "      <td>Ideal</td>\n",
              "      <td>H</td>\n",
              "      <td>VS2</td>\n",
              "      <td>62.1</td>\n",
              "      <td>55.0</td>\n",
              "      <td>628</td>\n",
              "      <td>4.35</td>\n",
              "      <td>4.32</td>\n",
              "      <td>2.69</td>\n",
              "    </tr>\n",
              "  </tbody>\n",
              "</table>\n",
              "</div>"
            ],
            "text/plain": [
              "       carat        cut color clarity  depth  table  price     x     y     z\n",
              "43601   0.31  Very Good     E     SI1   61.2   58.0    507  4.34  4.38  2.67\n",
              "52706   0.74       Fair     H     VS2   66.1   61.0   2553  5.60  5.57  3.69\n",
              "1986    0.81  Very Good     G     SI1   62.3   59.0   3095  5.93  5.98  3.71\n",
              "48617   0.70       Fair     G     SI2   61.5   66.0   1999  5.55  5.60  3.43\n",
              "10947   0.87      Ideal     G     VS2   61.8   56.0   4899  6.11  6.13  3.78\n",
              "44833   0.51       Good     E     SI1   64.3   55.0   1624  5.12  5.05  3.27\n",
              "13047   0.38  Very Good     I     SI1   59.7   62.0    601  4.70  4.74  2.82\n",
              "2737    0.71      Ideal     E     VS2   62.5   55.0   3247  5.67  5.73  3.56\n",
              "2052    0.32    Premium     G     VS2   62.0   58.0    561  4.33  4.38  2.70\n",
              "22365   0.31      Ideal     H     VS2   62.1   55.0    628  4.35  4.32  2.69"
            ]
          },
          "metadata": {
            "tags": []
          },
          "execution_count": 66
        }
      ]
    },
    {
      "metadata": {
        "id": "_IoBoOzDgkKw",
        "colab_type": "code",
        "colab": {}
      },
      "cell_type": "code",
      "source": [
        "cut_ranks = {'Fair': 1, 'Good': 2, 'Very Good': 3, 'Premium': 4, 'Ideal': 5}\n",
        "train_2.cut = train_2.cut.map(cut_ranks)\n",
        "test_2.cut = test_2.cut.map(cut_ranks)"
      ],
      "execution_count": 0,
      "outputs": []
    },
    {
      "metadata": {
        "id": "WENkjYiYgz1u",
        "colab_type": "code",
        "colab": {
          "base_uri": "https://localhost:8080/",
          "height": 359
        },
        "outputId": "73cf68c7-3e0c-4fbc-d370-98c576eaeb70"
      },
      "cell_type": "code",
      "source": [
        "train_2.head(10)"
      ],
      "execution_count": 68,
      "outputs": [
        {
          "output_type": "execute_result",
          "data": {
            "text/html": [
              "<div>\n",
              "<style scoped>\n",
              "    .dataframe tbody tr th:only-of-type {\n",
              "        vertical-align: middle;\n",
              "    }\n",
              "\n",
              "    .dataframe tbody tr th {\n",
              "        vertical-align: top;\n",
              "    }\n",
              "\n",
              "    .dataframe thead th {\n",
              "        text-align: right;\n",
              "    }\n",
              "</style>\n",
              "<table border=\"1\" class=\"dataframe\">\n",
              "  <thead>\n",
              "    <tr style=\"text-align: right;\">\n",
              "      <th></th>\n",
              "      <th>carat</th>\n",
              "      <th>cut</th>\n",
              "      <th>color</th>\n",
              "      <th>clarity</th>\n",
              "      <th>depth</th>\n",
              "      <th>table</th>\n",
              "      <th>price</th>\n",
              "      <th>x</th>\n",
              "      <th>y</th>\n",
              "      <th>z</th>\n",
              "    </tr>\n",
              "  </thead>\n",
              "  <tbody>\n",
              "    <tr>\n",
              "      <th>43601</th>\n",
              "      <td>0.31</td>\n",
              "      <td>3</td>\n",
              "      <td>E</td>\n",
              "      <td>SI1</td>\n",
              "      <td>61.2</td>\n",
              "      <td>58.0</td>\n",
              "      <td>507</td>\n",
              "      <td>4.34</td>\n",
              "      <td>4.38</td>\n",
              "      <td>2.67</td>\n",
              "    </tr>\n",
              "    <tr>\n",
              "      <th>52706</th>\n",
              "      <td>0.74</td>\n",
              "      <td>1</td>\n",
              "      <td>H</td>\n",
              "      <td>VS2</td>\n",
              "      <td>66.1</td>\n",
              "      <td>61.0</td>\n",
              "      <td>2553</td>\n",
              "      <td>5.60</td>\n",
              "      <td>5.57</td>\n",
              "      <td>3.69</td>\n",
              "    </tr>\n",
              "    <tr>\n",
              "      <th>1986</th>\n",
              "      <td>0.81</td>\n",
              "      <td>3</td>\n",
              "      <td>G</td>\n",
              "      <td>SI1</td>\n",
              "      <td>62.3</td>\n",
              "      <td>59.0</td>\n",
              "      <td>3095</td>\n",
              "      <td>5.93</td>\n",
              "      <td>5.98</td>\n",
              "      <td>3.71</td>\n",
              "    </tr>\n",
              "    <tr>\n",
              "      <th>48617</th>\n",
              "      <td>0.70</td>\n",
              "      <td>1</td>\n",
              "      <td>G</td>\n",
              "      <td>SI2</td>\n",
              "      <td>61.5</td>\n",
              "      <td>66.0</td>\n",
              "      <td>1999</td>\n",
              "      <td>5.55</td>\n",
              "      <td>5.60</td>\n",
              "      <td>3.43</td>\n",
              "    </tr>\n",
              "    <tr>\n",
              "      <th>10947</th>\n",
              "      <td>0.87</td>\n",
              "      <td>5</td>\n",
              "      <td>G</td>\n",
              "      <td>VS2</td>\n",
              "      <td>61.8</td>\n",
              "      <td>56.0</td>\n",
              "      <td>4899</td>\n",
              "      <td>6.11</td>\n",
              "      <td>6.13</td>\n",
              "      <td>3.78</td>\n",
              "    </tr>\n",
              "    <tr>\n",
              "      <th>44833</th>\n",
              "      <td>0.51</td>\n",
              "      <td>2</td>\n",
              "      <td>E</td>\n",
              "      <td>SI1</td>\n",
              "      <td>64.3</td>\n",
              "      <td>55.0</td>\n",
              "      <td>1624</td>\n",
              "      <td>5.12</td>\n",
              "      <td>5.05</td>\n",
              "      <td>3.27</td>\n",
              "    </tr>\n",
              "    <tr>\n",
              "      <th>13047</th>\n",
              "      <td>0.38</td>\n",
              "      <td>3</td>\n",
              "      <td>I</td>\n",
              "      <td>SI1</td>\n",
              "      <td>59.7</td>\n",
              "      <td>62.0</td>\n",
              "      <td>601</td>\n",
              "      <td>4.70</td>\n",
              "      <td>4.74</td>\n",
              "      <td>2.82</td>\n",
              "    </tr>\n",
              "    <tr>\n",
              "      <th>2737</th>\n",
              "      <td>0.71</td>\n",
              "      <td>5</td>\n",
              "      <td>E</td>\n",
              "      <td>VS2</td>\n",
              "      <td>62.5</td>\n",
              "      <td>55.0</td>\n",
              "      <td>3247</td>\n",
              "      <td>5.67</td>\n",
              "      <td>5.73</td>\n",
              "      <td>3.56</td>\n",
              "    </tr>\n",
              "    <tr>\n",
              "      <th>2052</th>\n",
              "      <td>0.32</td>\n",
              "      <td>4</td>\n",
              "      <td>G</td>\n",
              "      <td>VS2</td>\n",
              "      <td>62.0</td>\n",
              "      <td>58.0</td>\n",
              "      <td>561</td>\n",
              "      <td>4.33</td>\n",
              "      <td>4.38</td>\n",
              "      <td>2.70</td>\n",
              "    </tr>\n",
              "    <tr>\n",
              "      <th>22365</th>\n",
              "      <td>0.31</td>\n",
              "      <td>5</td>\n",
              "      <td>H</td>\n",
              "      <td>VS2</td>\n",
              "      <td>62.1</td>\n",
              "      <td>55.0</td>\n",
              "      <td>628</td>\n",
              "      <td>4.35</td>\n",
              "      <td>4.32</td>\n",
              "      <td>2.69</td>\n",
              "    </tr>\n",
              "  </tbody>\n",
              "</table>\n",
              "</div>"
            ],
            "text/plain": [
              "       carat  cut color clarity  depth  table  price     x     y     z\n",
              "43601   0.31    3     E     SI1   61.2   58.0    507  4.34  4.38  2.67\n",
              "52706   0.74    1     H     VS2   66.1   61.0   2553  5.60  5.57  3.69\n",
              "1986    0.81    3     G     SI1   62.3   59.0   3095  5.93  5.98  3.71\n",
              "48617   0.70    1     G     SI2   61.5   66.0   1999  5.55  5.60  3.43\n",
              "10947   0.87    5     G     VS2   61.8   56.0   4899  6.11  6.13  3.78\n",
              "44833   0.51    2     E     SI1   64.3   55.0   1624  5.12  5.05  3.27\n",
              "13047   0.38    3     I     SI1   59.7   62.0    601  4.70  4.74  2.82\n",
              "2737    0.71    5     E     VS2   62.5   55.0   3247  5.67  5.73  3.56\n",
              "2052    0.32    4     G     VS2   62.0   58.0    561  4.33  4.38  2.70\n",
              "22365   0.31    5     H     VS2   62.1   55.0    628  4.35  4.32  2.69"
            ]
          },
          "metadata": {
            "tags": []
          },
          "execution_count": 68
        }
      ]
    },
    {
      "metadata": {
        "id": "IwvTzA9rg82z",
        "colab_type": "code",
        "colab": {
          "base_uri": "https://localhost:8080/",
          "height": 51
        },
        "outputId": "bbf475eb-e0d2-4f2c-8415-55fc9c17edfc"
      },
      "cell_type": "code",
      "source": [
        "from sklearn.linear_model import LinearRegression\n",
        "\n",
        "features = ['carat', 'cut']\n",
        "target = 'price'\n",
        "\n",
        "model_3 = LinearRegression()\n",
        "model_3.fit(train_2[features], train_2[target])\n"
      ],
      "execution_count": 69,
      "outputs": [
        {
          "output_type": "execute_result",
          "data": {
            "text/plain": [
              "LinearRegression(copy_X=True, fit_intercept=True, n_jobs=None,\n",
              "         normalize=False)"
            ]
          },
          "metadata": {
            "tags": []
          },
          "execution_count": 69
        }
      ]
    },
    {
      "metadata": {
        "id": "RW6R8rIMil4O",
        "colab_type": "text"
      },
      "cell_type": "markdown",
      "source": [
        "=> Mean Absolute Error"
      ]
    },
    {
      "metadata": {
        "id": "3UY0RX8OiZqb",
        "colab_type": "code",
        "colab": {
          "base_uri": "https://localhost:8080/",
          "height": 51
        },
        "outputId": "727f425e-4b83-4051-cd08-037c29c1ef19"
      },
      "cell_type": "code",
      "source": [
        "check_errors(model_3, train_2, test_2, features, target)"
      ],
      "execution_count": 70,
      "outputs": [
        {
          "output_type": "stream",
          "text": [
            "309.46586653861294\n",
            "309.5202765379711\n"
          ],
          "name": "stdout"
        }
      ]
    },
    {
      "metadata": {
        "id": "4jLEcukVmyXb",
        "colab_type": "text"
      },
      "cell_type": "markdown",
      "source": [
        "Use this model to predict the price of a half carat diamond with \"very good\" cut"
      ]
    },
    {
      "metadata": {
        "id": "m1pDzeLZmyXb",
        "colab_type": "code",
        "colab": {
          "base_uri": "https://localhost:8080/",
          "height": 34
        },
        "outputId": "a56e46fc-aa79-4dcb-a747-325e924e4ed8"
      },
      "cell_type": "code",
      "source": [
        "model_3.predict([[0.5, 3]])"
      ],
      "execution_count": 71,
      "outputs": [
        {
          "output_type": "execute_result",
          "data": {
            "text/plain": [
              "array([1489.45526366])"
            ]
          },
          "metadata": {
            "tags": []
          },
          "execution_count": 71
        }
      ]
    },
    {
      "metadata": {
        "id": "eB-7wzRjmyXe",
        "colab_type": "text"
      },
      "cell_type": "markdown",
      "source": [
        "### 3. More data, more features, any model"
      ]
    },
    {
      "metadata": {
        "id": "OCauk9z2myXf",
        "colab_type": "text"
      },
      "cell_type": "markdown",
      "source": [
        "You choose what features and model type to use! Try to get a better mean absolute error on the test set than your model from the last question."
      ]
    },
    {
      "metadata": {
        "id": "nWVpkz8dmyXf",
        "colab_type": "text"
      },
      "cell_type": "markdown",
      "source": [
        "Refer to [this documentation](https://ggplot2.tidyverse.org/reference/diamonds.html) for more explanation of the features.\n",
        "\n",
        "Besides `cut`, there are two more ordinal features, which you'd need to encode as numbers if you want to use in your model:"
      ]
    },
    {
      "metadata": {
        "id": "54K95PyEmyXf",
        "colab_type": "code",
        "outputId": "bc883098-3a57-4381-934f-6660c9bad877",
        "colab": {
          "base_uri": "https://localhost:8080/",
          "height": 173
        }
      },
      "cell_type": "code",
      "source": [
        "train_2.describe(include=['object'])"
      ],
      "execution_count": 72,
      "outputs": [
        {
          "output_type": "execute_result",
          "data": {
            "text/html": [
              "<div>\n",
              "<style scoped>\n",
              "    .dataframe tbody tr th:only-of-type {\n",
              "        vertical-align: middle;\n",
              "    }\n",
              "\n",
              "    .dataframe tbody tr th {\n",
              "        vertical-align: top;\n",
              "    }\n",
              "\n",
              "    .dataframe thead th {\n",
              "        text-align: right;\n",
              "    }\n",
              "</style>\n",
              "<table border=\"1\" class=\"dataframe\">\n",
              "  <thead>\n",
              "    <tr style=\"text-align: right;\">\n",
              "      <th></th>\n",
              "      <th>color</th>\n",
              "      <th>clarity</th>\n",
              "    </tr>\n",
              "  </thead>\n",
              "  <tbody>\n",
              "    <tr>\n",
              "      <th>count</th>\n",
              "      <td>29409</td>\n",
              "      <td>29409</td>\n",
              "    </tr>\n",
              "    <tr>\n",
              "      <th>unique</th>\n",
              "      <td>7</td>\n",
              "      <td>8</td>\n",
              "    </tr>\n",
              "    <tr>\n",
              "      <th>top</th>\n",
              "      <td>E</td>\n",
              "      <td>SI1</td>\n",
              "    </tr>\n",
              "    <tr>\n",
              "      <th>freq</th>\n",
              "      <td>6090</td>\n",
              "      <td>6948</td>\n",
              "    </tr>\n",
              "  </tbody>\n",
              "</table>\n",
              "</div>"
            ],
            "text/plain": [
              "        color clarity\n",
              "count   29409   29409\n",
              "unique      7       8\n",
              "top         E     SI1\n",
              "freq     6090    6948"
            ]
          },
          "metadata": {
            "tags": []
          },
          "execution_count": 72
        }
      ]
    },
    {
      "metadata": {
        "id": "ZUiQCTdQmyXi",
        "colab_type": "code",
        "outputId": "9e1e3a06-9220-4534-d29c-e0ee20c715ea",
        "colab": {
          "base_uri": "https://localhost:8080/",
          "height": 51
        }
      },
      "cell_type": "code",
      "source": [
        "clarity_rank = {\"IF\":0,\"VVS1\":1, \"VVS2\":2,\"VS1\":3, \"VS2\":4,\"SI1\":5, \"SI2\":6, \"I1\":7}\n",
        "train_2.clarity = train_2.clarity.map(clarity_rank)  \n",
        "test_2.clarity = test_2.clarity.map(clarity_rank) \n",
        "\n",
        "color_rank = {\"J\":7, \"I\":6, \"H\":5, \"G\":4, \"F\":3, \"E\":2, \"D\":1 }\n",
        "train_2.color = train_2.color.map(color_rank)\n",
        "test_2.color = test_2.color.map(color_rank)\n"
      ],
      "execution_count": 73,
      "outputs": [
        {
          "output_type": "stream",
          "text": [
            "244.8239755325928\n",
            "246.21396940111154\n"
          ],
          "name": "stdout"
        }
      ]
    },
    {
      "metadata": {
        "id": "6xGvagPHlWRM",
        "colab_type": "code",
        "colab": {
          "base_uri": "https://localhost:8080/",
          "height": 51
        },
        "outputId": "cc998d85-1f28-436a-99b1-57ff88fcf73b"
      },
      "cell_type": "code",
      "source": [
        "features = ['color','clarity', 'cut', 'carat']\n",
        "target = ['price']\n",
        "\n",
        "model_4 = LinearRegression()\n",
        "model_4.fit(train_2[features],train_2[target])\n",
        "check_errors(model_4, train_2, test_2, features, target)"
      ],
      "execution_count": 85,
      "outputs": [
        {
          "output_type": "stream",
          "text": [
            "244.8239755325928\n",
            "246.21396940111154\n"
          ],
          "name": "stdout"
        }
      ]
    },
    {
      "metadata": {
        "id": "_wAoZ1plQYVc",
        "colab_type": "code",
        "colab": {
          "base_uri": "https://localhost:8080/",
          "height": 51
        },
        "outputId": "a38da7b3-b124-4ed9-fcf3-4967e1ef34e3"
      },
      "cell_type": "code",
      "source": [
        "model_4.coef_, model_4.intercept_"
      ],
      "execution_count": 86,
      "outputs": [
        {
          "output_type": "execute_result",
          "data": {
            "text/plain": [
              "(array([[-112.47381195, -161.90279604,   51.28925478, 5529.14717977]]),\n",
              " array([-447.29671118]))"
            ]
          },
          "metadata": {
            "tags": []
          },
          "execution_count": 86
        }
      ]
    },
    {
      "metadata": {
        "id": "dIWE2oUFkkXb",
        "colab_type": "code",
        "colab": {
          "base_uri": "https://localhost:8080/",
          "height": 297
        },
        "outputId": "b6bc45ae-d325-4853-c40a-2ff404a94831"
      },
      "cell_type": "code",
      "source": [
        "train_2.describe()"
      ],
      "execution_count": 75,
      "outputs": [
        {
          "output_type": "execute_result",
          "data": {
            "text/html": [
              "<div>\n",
              "<style scoped>\n",
              "    .dataframe tbody tr th:only-of-type {\n",
              "        vertical-align: middle;\n",
              "    }\n",
              "\n",
              "    .dataframe tbody tr th {\n",
              "        vertical-align: top;\n",
              "    }\n",
              "\n",
              "    .dataframe thead th {\n",
              "        text-align: right;\n",
              "    }\n",
              "</style>\n",
              "<table border=\"1\" class=\"dataframe\">\n",
              "  <thead>\n",
              "    <tr style=\"text-align: right;\">\n",
              "      <th></th>\n",
              "      <th>carat</th>\n",
              "      <th>cut</th>\n",
              "      <th>color</th>\n",
              "      <th>clarity</th>\n",
              "      <th>depth</th>\n",
              "      <th>table</th>\n",
              "      <th>price</th>\n",
              "      <th>x</th>\n",
              "      <th>y</th>\n",
              "      <th>z</th>\n",
              "    </tr>\n",
              "  </thead>\n",
              "  <tbody>\n",
              "    <tr>\n",
              "      <th>count</th>\n",
              "      <td>29409.000000</td>\n",
              "      <td>29409.000000</td>\n",
              "      <td>29409.000000</td>\n",
              "      <td>29409.000000</td>\n",
              "      <td>29409.000000</td>\n",
              "      <td>29409.000000</td>\n",
              "      <td>29409.000000</td>\n",
              "      <td>29409.000000</td>\n",
              "      <td>29409.000000</td>\n",
              "      <td>29409.000000</td>\n",
              "    </tr>\n",
              "    <tr>\n",
              "      <th>mean</th>\n",
              "      <td>0.572621</td>\n",
              "      <td>3.921385</td>\n",
              "      <td>3.411643</td>\n",
              "      <td>3.852698</td>\n",
              "      <td>61.764184</td>\n",
              "      <td>57.334574</td>\n",
              "      <td>1912.448842</td>\n",
              "      <td>5.212862</td>\n",
              "      <td>5.218321</td>\n",
              "      <td>3.221193</td>\n",
              "    </tr>\n",
              "    <tr>\n",
              "      <th>std</th>\n",
              "      <td>0.259543</td>\n",
              "      <td>1.135751</td>\n",
              "      <td>1.666277</td>\n",
              "      <td>1.705320</td>\n",
              "      <td>1.424072</td>\n",
              "      <td>2.269379</td>\n",
              "      <td>1326.834107</td>\n",
              "      <td>0.771722</td>\n",
              "      <td>0.779769</td>\n",
              "      <td>0.510568</td>\n",
              "    </tr>\n",
              "    <tr>\n",
              "      <th>min</th>\n",
              "      <td>0.200000</td>\n",
              "      <td>1.000000</td>\n",
              "      <td>1.000000</td>\n",
              "      <td>0.000000</td>\n",
              "      <td>43.000000</td>\n",
              "      <td>43.000000</td>\n",
              "      <td>326.000000</td>\n",
              "      <td>0.000000</td>\n",
              "      <td>3.680000</td>\n",
              "      <td>0.000000</td>\n",
              "    </tr>\n",
              "    <tr>\n",
              "      <th>25%</th>\n",
              "      <td>0.340000</td>\n",
              "      <td>3.000000</td>\n",
              "      <td>2.000000</td>\n",
              "      <td>3.000000</td>\n",
              "      <td>61.100000</td>\n",
              "      <td>56.000000</td>\n",
              "      <td>802.000000</td>\n",
              "      <td>4.490000</td>\n",
              "      <td>4.500000</td>\n",
              "      <td>2.770000</td>\n",
              "    </tr>\n",
              "    <tr>\n",
              "      <th>50%</th>\n",
              "      <td>0.510000</td>\n",
              "      <td>4.000000</td>\n",
              "      <td>3.000000</td>\n",
              "      <td>4.000000</td>\n",
              "      <td>61.800000</td>\n",
              "      <td>57.000000</td>\n",
              "      <td>1412.000000</td>\n",
              "      <td>5.140000</td>\n",
              "      <td>5.140000</td>\n",
              "      <td>3.180000</td>\n",
              "    </tr>\n",
              "    <tr>\n",
              "      <th>75%</th>\n",
              "      <td>0.730000</td>\n",
              "      <td>5.000000</td>\n",
              "      <td>5.000000</td>\n",
              "      <td>5.000000</td>\n",
              "      <td>62.500000</td>\n",
              "      <td>59.000000</td>\n",
              "      <td>2825.000000</td>\n",
              "      <td>5.800000</td>\n",
              "      <td>5.810000</td>\n",
              "      <td>3.590000</td>\n",
              "    </tr>\n",
              "    <tr>\n",
              "      <th>max</th>\n",
              "      <td>1.740000</td>\n",
              "      <td>5.000000</td>\n",
              "      <td>7.000000</td>\n",
              "      <td>7.000000</td>\n",
              "      <td>79.000000</td>\n",
              "      <td>79.000000</td>\n",
              "      <td>4999.000000</td>\n",
              "      <td>7.620000</td>\n",
              "      <td>31.800000</td>\n",
              "      <td>31.800000</td>\n",
              "    </tr>\n",
              "  </tbody>\n",
              "</table>\n",
              "</div>"
            ],
            "text/plain": [
              "              carat           cut         color       clarity         depth  \\\n",
              "count  29409.000000  29409.000000  29409.000000  29409.000000  29409.000000   \n",
              "mean       0.572621      3.921385      3.411643      3.852698     61.764184   \n",
              "std        0.259543      1.135751      1.666277      1.705320      1.424072   \n",
              "min        0.200000      1.000000      1.000000      0.000000     43.000000   \n",
              "25%        0.340000      3.000000      2.000000      3.000000     61.100000   \n",
              "50%        0.510000      4.000000      3.000000      4.000000     61.800000   \n",
              "75%        0.730000      5.000000      5.000000      5.000000     62.500000   \n",
              "max        1.740000      5.000000      7.000000      7.000000     79.000000   \n",
              "\n",
              "              table         price             x             y             z  \n",
              "count  29409.000000  29409.000000  29409.000000  29409.000000  29409.000000  \n",
              "mean      57.334574   1912.448842      5.212862      5.218321      3.221193  \n",
              "std        2.269379   1326.834107      0.771722      0.779769      0.510568  \n",
              "min       43.000000    326.000000      0.000000      3.680000      0.000000  \n",
              "25%       56.000000    802.000000      4.490000      4.500000      2.770000  \n",
              "50%       57.000000   1412.000000      5.140000      5.140000      3.180000  \n",
              "75%       59.000000   2825.000000      5.800000      5.810000      3.590000  \n",
              "max       79.000000   4999.000000      7.620000     31.800000     31.800000  "
            ]
          },
          "metadata": {
            "tags": []
          },
          "execution_count": 75
        }
      ]
    },
    {
      "metadata": {
        "id": "v8K9sNVIlNLY",
        "colab_type": "code",
        "colab": {}
      },
      "cell_type": "code",
      "source": [
        ""
      ],
      "execution_count": 0,
      "outputs": []
    }
  ]
}